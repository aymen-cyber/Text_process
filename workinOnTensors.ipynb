{
  "nbformat": 4,
  "nbformat_minor": 0,
  "metadata": {
    "colab": {
      "name": "workinOnTensors.ipynb",
      "provenance": [],
      "include_colab_link": true
    },
    "kernelspec": {
      "name": "python3",
      "display_name": "Python 3"
    },
    "language_info": {
      "name": "python"
    }
  },
  "cells": [
    {
      "cell_type": "markdown",
      "metadata": {
        "id": "view-in-github",
        "colab_type": "text"
      },
      "source": [
        "<a href=\"https://colab.research.google.com/github/aymen-cyber/Text_process/blob/main/workinOnTensors.ipynb\" target=\"_parent\"><img src=\"https://colab.research.google.com/assets/colab-badge.svg\" alt=\"Open In Colab\"/></a>"
      ]
    },
    {
      "cell_type": "code",
      "metadata": {
        "id": "TTdRvZFkqmac"
      },
      "source": [
        "import tensorflow as tf"
      ],
      "execution_count": 1,
      "outputs": []
    },
    {
      "cell_type": "code",
      "metadata": {
        "colab": {
          "base_uri": "https://localhost:8080/"
        },
        "id": "gaaqYCFaqweG",
        "outputId": "fc68f158-e7ca-46b6-eeda-092f1b1673be"
      },
      "source": [
        "a = tf.constant([[0, 10, 20],\n",
        "                 [20, 30, 40],\n",
        "                 [30, 50, 60]])\n",
        "b = tf.constant([5, 5, 5])\n",
        "print( a+ b )\n",
        "print( tf.add(a,b) )\n",
        "print( (3*a) )"
      ],
      "execution_count": 2,
      "outputs": [
        {
          "output_type": "stream",
          "name": "stdout",
          "text": [
            "tf.Tensor(\n",
            "[[ 5 15 25]\n",
            " [25 35 45]\n",
            " [35 55 65]], shape=(3, 3), dtype=int32)\n",
            "tf.Tensor(\n",
            "[[ 5 15 25]\n",
            " [25 35 45]\n",
            " [35 55 65]], shape=(3, 3), dtype=int32)\n",
            "tf.Tensor(\n",
            "[[  0  30  60]\n",
            " [ 60  90 120]\n",
            " [ 90 150 180]], shape=(3, 3), dtype=int32)\n"
          ]
        }
      ]
    },
    {
      "cell_type": "code",
      "metadata": {
        "colab": {
          "base_uri": "https://localhost:8080/"
        },
        "id": "Ea8I8rwdsdP9",
        "outputId": "c06822e1-9774-41cd-d952-0715bee440bf"
      },
      "source": [
        "tf.reduce_min(a , axis=1)"
      ],
      "execution_count": 3,
      "outputs": [
        {
          "output_type": "execute_result",
          "data": {
            "text/plain": [
              "<tf.Tensor: shape=(3,), dtype=int32, numpy=array([ 0, 20, 30], dtype=int32)>"
            ]
          },
          "metadata": {},
          "execution_count": 3
        }
      ]
    },
    {
      "cell_type": "code",
      "metadata": {
        "colab": {
          "base_uri": "https://localhost:8080/"
        },
        "id": "L209JDVptipV",
        "outputId": "66f21a75-b82c-4332-ac4c-dc2763733256"
      },
      "source": [
        "tf.argmax(a)"
      ],
      "execution_count": 4,
      "outputs": [
        {
          "output_type": "execute_result",
          "data": {
            "text/plain": [
              "<tf.Tensor: shape=(3,), dtype=int64, numpy=array([2, 2, 2])>"
            ]
          },
          "metadata": {},
          "execution_count": 4
        }
      ]
    },
    {
      "cell_type": "code",
      "metadata": {
        "colab": {
          "base_uri": "https://localhost:8080/"
        },
        "id": "RDFDkWr8uA50",
        "outputId": "c2b0ed59-80a7-4226-9893-5783e0198679"
      },
      "source": [
        "tf.equal(\"bONJOUR\",\"bonjour\")"
      ],
      "execution_count": null,
      "outputs": [
        {
          "output_type": "execute_result",
          "data": {
            "text/plain": [
              "<tf.Tensor: shape=(), dtype=bool, numpy=False>"
            ]
          },
          "metadata": {},
          "execution_count": 5
        }
      ]
    },
    {
      "cell_type": "code",
      "metadata": {
        "colab": {
          "base_uri": "https://localhost:8080/"
        },
        "id": "SEGv7iuZruTu",
        "outputId": "1ce74621-815d-468d-c8ad-5d0f90bf35da"
      },
      "source": [
        "a = tf.constant([3, 5, 3, 8])\n",
        "tf.unique(a)\n",
        "# reduce redandence"
      ],
      "execution_count": null,
      "outputs": [
        {
          "output_type": "execute_result",
          "data": {
            "text/plain": [
              "Unique(y=<tf.Tensor: shape=(3,), dtype=int32, numpy=array([3, 5, 8], dtype=int32)>, idx=<tf.Tensor: shape=(4,), dtype=int32, numpy=array([0, 1, 0, 2], dtype=int32)>)"
            ]
          },
          "metadata": {},
          "execution_count": 6
        }
      ]
    },
    {
      "cell_type": "code",
      "metadata": {
        "colab": {
          "base_uri": "https://localhost:8080/"
        },
        "id": "vfbn2ceivUKF",
        "outputId": "595f7813-abcc-44f9-8255-77ba6626428f"
      },
      "source": [
        "reduce_simple_1 = tf.constant([1,2,3,4,5,6], shape=[2,3])\n",
        "print(\"original data\", reduce_simple_1.numpy())"
      ],
      "execution_count": null,
      "outputs": [
        {
          "output_type": "stream",
          "name": "stdout",
          "text": [
            "original data [[1 2 3]\n",
            " [4 5 6]]\n"
          ]
        }
      ]
    },
    {
      "cell_type": "code",
      "metadata": {
        "colab": {
          "base_uri": "https://localhost:8080/"
        },
        "id": "P0aWhAOqwWI1",
        "outputId": "6d73300b-3b93-4c50-a481-677537c2ef4f"
      },
      "source": [
        "tf.reduce_sum(reduce_simple_1, axis=None).numpy()\n",
        "tf.reduce_prod(reduce_simple_1, axis=None).numpy()"
      ],
      "execution_count": null,
      "outputs": [
        {
          "output_type": "execute_result",
          "data": {
            "text/plain": [
              "720"
            ]
          },
          "metadata": {},
          "execution_count": 8
        }
      ]
    },
    {
      "cell_type": "code",
      "metadata": {
        "colab": {
          "base_uri": "https://localhost:8080/"
        },
        "id": "NID4b5cex6Dd",
        "outputId": "3f39ff5e-14c8-453a-dea7-a8c76d6ca67f"
      },
      "source": [
        "tf.reduce_sum(reduce_simple_1, axis=0).numpy()\n",
        "tf.reduce_sum(reduce_simple_1, axis=1).numpy()"
      ],
      "execution_count": null,
      "outputs": [
        {
          "output_type": "execute_result",
          "data": {
            "text/plain": [
              "array([ 6, 15], dtype=int32)"
            ]
          },
          "metadata": {},
          "execution_count": 9
        }
      ]
    },
    {
      "cell_type": "code",
      "metadata": {
        "colab": {
          "base_uri": "https://localhost:8080/"
        },
        "id": "qifudbvDyDVs",
        "outputId": "c510aa05-4e64-4120-b069-d0c3838ade6e"
      },
      "source": [
        "a = tf.constant([True, False, True, False], shape=[2, 2])\n",
        "tf.reduce_all(a)"
      ],
      "execution_count": null,
      "outputs": [
        {
          "output_type": "execute_result",
          "data": {
            "text/plain": [
              "<tf.Tensor: shape=(), dtype=bool, numpy=False>"
            ]
          },
          "metadata": {},
          "execution_count": 10
        }
      ]
    },
    {
      "cell_type": "code",
      "metadata": {
        "colab": {
          "base_uri": "https://localhost:8080/"
        },
        "id": "Wh2J2Zooyjak",
        "outputId": "4fb28cff-c164-4a95-a83b-cc7b79ba8bf7"
      },
      "source": [
        "a = tf.constant([True, True, False, False], shape=[2, 2])\n",
        "tf.reduce_all(a, axis=1)\n",
        "tf.reduce_all(a, axis=0)"
      ],
      "execution_count": null,
      "outputs": [
        {
          "output_type": "execute_result",
          "data": {
            "text/plain": [
              "<tf.Tensor: shape=(2,), dtype=bool, numpy=array([False, False])>"
            ]
          },
          "metadata": {},
          "execution_count": 11
        }
      ]
    },
    {
      "cell_type": "code",
      "metadata": {
        "colab": {
          "base_uri": "https://localhost:8080/"
        },
        "id": "fv0HyZd1zeU0",
        "outputId": "a1b58463-84fe-4c1b-ce37-71c5a8e9dd3e"
      },
      "source": [
        "concat_simple_1 = tf.random.normal([100,100,3])\n",
        "concat_simple_2 = tf.random.normal([100,100,3])\n",
        "print(concat_simple_1.shape)\n",
        "print(concat_simple_2.shape)\n",
        "print(tf.concat([concat_simple_1, concat_simple_2], axis= 0).shape)\n",
        "print(tf.concat([concat_simple_1, concat_simple_2], axis= 1).shape)"
      ],
      "execution_count": null,
      "outputs": [
        {
          "output_type": "stream",
          "name": "stdout",
          "text": [
            "(100, 100, 3)\n",
            "(100, 100, 3)\n",
            "(200, 100, 3)\n",
            "(100, 200, 3)\n"
          ]
        }
      ]
    },
    {
      "cell_type": "code",
      "metadata": {
        "colab": {
          "base_uri": "https://localhost:8080/"
        },
        "id": "62yDW-6j2y9t",
        "outputId": "8b475a3c-92f2-4f07-cb51-0b7f33595da5"
      },
      "source": [
        "print(tf.stack([concat_simple_1, concat_simple_2], axis= 0).shape)\n",
        "print(tf.stack([concat_simple_1, concat_simple_2], axis= 1).shape)\n",
        "print(tf.stack([concat_simple_1, concat_simple_2], axis= -1).shape)\n",
        "print(tf.stack([concat_simple_1, concat_simple_2], axis= 2).shape)"
      ],
      "execution_count": null,
      "outputs": [
        {
          "output_type": "stream",
          "name": "stdout",
          "text": [
            "(2, 100, 100, 3)\n",
            "(100, 2, 100, 3)\n",
            "(100, 100, 3, 2)\n",
            "(100, 100, 2, 3)\n"
          ]
        }
      ]
    },
    {
      "cell_type": "code",
      "metadata": {
        "colab": {
          "base_uri": "https://localhost:8080/"
        },
        "id": "UYL1gV9L3Tat",
        "outputId": "7fb21dc6-4d09-47ff-ee04-81b8ec67c3e4"
      },
      "source": [
        "a = tf.constant([[0, 0, 0],\n",
        "                 [1, 1, 1],])\n",
        "b = tf.constant([[5, 5, 5],\n",
        "                 [2, 2, 2]])\n",
        "\n",
        "print(a)\n",
        "print(b)\n",
        "print(tf.concat([a, b], axis= 0))\n",
        "print(tf.concat([a, b], axis= 1))"
      ],
      "execution_count": null,
      "outputs": [
        {
          "output_type": "stream",
          "name": "stdout",
          "text": [
            "tf.Tensor(\n",
            "[[0 0 0]\n",
            " [1 1 1]], shape=(2, 3), dtype=int32)\n",
            "tf.Tensor(\n",
            "[[5 5 5]\n",
            " [2 2 2]], shape=(2, 3), dtype=int32)\n",
            "tf.Tensor(\n",
            "[[0 0 0]\n",
            " [1 1 1]\n",
            " [5 5 5]\n",
            " [2 2 2]], shape=(4, 3), dtype=int32)\n",
            "tf.Tensor(\n",
            "[[0 0 0 5 5 5]\n",
            " [1 1 1 2 2 2]], shape=(2, 6), dtype=int32)\n"
          ]
        }
      ]
    },
    {
      "cell_type": "code",
      "metadata": {
        "colab": {
          "base_uri": "https://localhost:8080/"
        },
        "id": "PREKXMoh32B8",
        "outputId": "638b04c1-0d2d-452d-be3f-7ab56c3c7e80"
      },
      "source": [
        "print(tf.stack([a, b], axis= 0))\n",
        "print(tf.stack([a, b], axis= 1))\n",
        "print(tf.stack([a, b], axis= -1))\n",
        "print(tf.stack([a, b], axis= 2))"
      ],
      "execution_count": null,
      "outputs": [
        {
          "output_type": "stream",
          "name": "stdout",
          "text": [
            "tf.Tensor(\n",
            "[[[0 0 0]\n",
            "  [1 1 1]]\n",
            "\n",
            " [[5 5 5]\n",
            "  [2 2 2]]], shape=(2, 2, 3), dtype=int32)\n",
            "tf.Tensor(\n",
            "[[[0 0 0]\n",
            "  [5 5 5]]\n",
            "\n",
            " [[1 1 1]\n",
            "  [2 2 2]]], shape=(2, 2, 3), dtype=int32)\n",
            "tf.Tensor(\n",
            "[[[0 5]\n",
            "  [0 5]\n",
            "  [0 5]]\n",
            "\n",
            " [[1 2]\n",
            "  [1 2]\n",
            "  [1 2]]], shape=(2, 3, 2), dtype=int32)\n",
            "tf.Tensor(\n",
            "[[[0 5]\n",
            "  [0 5]\n",
            "  [0 5]]\n",
            "\n",
            " [[1 2]\n",
            "  [1 2]\n",
            "  [1 2]]], shape=(2, 3, 2), dtype=int32)\n"
          ]
        }
      ]
    },
    {
      "cell_type": "code",
      "metadata": {
        "colab": {
          "base_uri": "https://localhost:8080/"
        },
        "id": "SbVFpHkOBDZi",
        "outputId": "980571c6-b17c-47fd-9c45-24ab2185e4ce"
      },
      "source": [
        "import numpy as np\n",
        "\n",
        "split1 = tf.random.normal([10, 100, 100, 3])\n",
        "splited1 = tf.split( split1, num_or_size_splits=5, axis=0)\n",
        "np.shape(splited1)"
      ],
      "execution_count": null,
      "outputs": [
        {
          "output_type": "execute_result",
          "data": {
            "text/plain": [
              "(5, 2, 100, 100, 3)"
            ]
          },
          "metadata": {},
          "execution_count": 16
        }
      ]
    },
    {
      "cell_type": "code",
      "metadata": {
        "colab": {
          "base_uri": "https://localhost:8080/"
        },
        "id": "l1Zf3EQbDSCq",
        "outputId": "e764ee9b-cfc1-4eea-d6f5-d8ca078d7040"
      },
      "source": [
        "splited2 = tf.split( split1, num_or_size_splits=[3, 5, 2], axis=0)\n",
        "print(np.shape(splited1), np.shape(splited1)[0], np.shape(splited1)[1], np.shape(splited1)[2])"
      ],
      "execution_count": null,
      "outputs": [
        {
          "output_type": "stream",
          "name": "stdout",
          "text": [
            "(5, 2, 100, 100, 3) 5 2 100\n"
          ]
        }
      ]
    },
    {
      "cell_type": "code",
      "metadata": {
        "colab": {
          "base_uri": "https://localhost:8080/"
        },
        "id": "GTfEGJA9FEjy",
        "outputId": "bfd8dd86-718f-470c-ed07-bbef52f19731"
      },
      "source": [
        "sort1 = tf.random.shuffle(tf.range(10))\n",
        "print( sort1.numpy() )"
      ],
      "execution_count": null,
      "outputs": [
        {
          "output_type": "stream",
          "name": "stdout",
          "text": [
            "[7 9 5 1 3 0 6 4 2 8]\n"
          ]
        }
      ]
    },
    {
      "cell_type": "code",
      "metadata": {
        "colab": {
          "base_uri": "https://localhost:8080/"
        },
        "id": "hxUOobXsFZUp",
        "outputId": "9ced11b2-1d65-4cc4-886c-609840f849da"
      },
      "source": [
        "sorted1 = tf.sort(sort1, direction=\"ASCENDING\")\n",
        "sorted1 = tf.sort(sort1, direction=\"DESCENDING\")\n",
        "sorted1"
      ],
      "execution_count": null,
      "outputs": [
        {
          "output_type": "execute_result",
          "data": {
            "text/plain": [
              "<tf.Tensor: shape=(10,), dtype=int32, numpy=array([9, 8, 7, 6, 5, 4, 3, 2, 1, 0], dtype=int32)>"
            ]
          },
          "metadata": {},
          "execution_count": 19
        }
      ]
    },
    {
      "cell_type": "code",
      "metadata": {
        "colab": {
          "base_uri": "https://localhost:8080/"
        },
        "id": "n1NWnDmiGD5y",
        "outputId": "8e322994-9d5f-496c-e7db-1005f037ec9a"
      },
      "source": [
        "argsorted1 = tf.argsort(sort1, direction=\"DESCENDING\")\n",
        "argsorted1"
      ],
      "execution_count": null,
      "outputs": [
        {
          "output_type": "execute_result",
          "data": {
            "text/plain": [
              "<tf.Tensor: shape=(10,), dtype=int32, numpy=array([1, 9, 0, 6, 2, 7, 4, 8, 3, 5], dtype=int32)>"
            ]
          },
          "metadata": {},
          "execution_count": 20
        }
      ]
    },
    {
      "cell_type": "code",
      "metadata": {
        "colab": {
          "base_uri": "https://localhost:8080/"
        },
        "id": "FKi9nBr5H4Bi",
        "outputId": "495ac9a7-5541-4813-a558-bd9adb5f9dbb"
      },
      "source": [
        "#Eager execution : tensorflow 2.x\n",
        "x = tf.ones((2, 2), dtype= tf.dtypes.float32)\n",
        "y = tf.constant([[1, 2],[3, 4]], dtype= tf.dtypes.float32)\n",
        "z = tf.matmul(x, y)\n",
        "z"
      ],
      "execution_count": null,
      "outputs": [
        {
          "output_type": "execute_result",
          "data": {
            "text/plain": [
              "<tf.Tensor: shape=(2, 2), dtype=float32, numpy=\n",
              "array([[4., 6.],\n",
              "       [4., 6.]], dtype=float32)>"
            ]
          },
          "metadata": {},
          "execution_count": 21
        }
      ]
    },
    {
      "cell_type": "code",
      "metadata": {
        "id": "7MXgoip-IqGC"
      },
      "source": [
        "import tensorflow.compat.v1 as tf1"
      ],
      "execution_count": null,
      "outputs": []
    },
    {
      "cell_type": "code",
      "metadata": {
        "colab": {
          "base_uri": "https://localhost:8080/"
        },
        "id": "0dk4RhGiIxPx",
        "outputId": "045f8523-d28d-464d-b351-812c06e82208"
      },
      "source": [
        "# computational graph. Tensorflow 1.x\n",
        "tf1.disable_eager_execution()\n",
        "# Create a graph and designe it as \n",
        "a = tf1.ones((2, 2), dtype= tf.dtypes.float32)\n",
        "b = tf1.constant([[1, 2],[3, 4]], dtype= tf.dtypes.float32)\n",
        "c = tf1.matmul(a, b)\n",
        "c"
      ],
      "execution_count": null,
      "outputs": [
        {
          "output_type": "execute_result",
          "data": {
            "text/plain": [
              "<tf.Tensor 'MatMul:0' shape=(2, 2) dtype=float32>"
            ]
          },
          "metadata": {},
          "execution_count": 38
        }
      ]
    },
    {
      "cell_type": "code",
      "metadata": {
        "colab": {
          "base_uri": "https://localhost:8080/"
        },
        "id": "f54eQHh-J5BR",
        "outputId": "73deffa7-eeaa-4552-9619-03bd5e651860"
      },
      "source": [
        "with tf1.Session() as sess:\n",
        "  print(sess.run(c))"
      ],
      "execution_count": null,
      "outputs": [
        {
          "output_type": "stream",
          "name": "stdout",
          "text": [
            "[[4. 6.]\n",
            " [4. 6.]]\n"
          ]
        }
      ]
    },
    {
      "cell_type": "code",
      "metadata": {
        "id": "uY9-I-6DLIYJ"
      },
      "source": [
        "@tf.function\n",
        "def NetCalculation(inputs, w, b):\n",
        "  x = tf.zeros(inputs[0].shape, dtype= tf.dtypes.int32)\n",
        "  for i in inputs:\n",
        "    x= tf.add(x, i*w)\n",
        "  return tf.add(x, -b)"
      ],
      "execution_count": null,
      "outputs": []
    },
    {
      "cell_type": "code",
      "metadata": {
        "colab": {
          "base_uri": "https://localhost:8080/"
        },
        "id": "kiaDlvHxPg_h",
        "outputId": "eb2158fd-6648-4076-d267-0da47a685f25"
      },
      "source": [
        "NetCalculation(a , 3, a[0])"
      ],
      "execution_count": null,
      "outputs": [
        {
          "output_type": "execute_result",
          "data": {
            "text/plain": [
              "<tf.Tensor: shape=(3,), dtype=int32, numpy=array([150, 260, 340], dtype=int32)>"
            ]
          },
          "metadata": {},
          "execution_count": 39
        }
      ]
    },
    {
      "cell_type": "code",
      "metadata": {
        "colab": {
          "base_uri": "https://localhost:8080/"
        },
        "id": "r9b8GLkbQIKI",
        "outputId": "672afe88-97eb-4f0a-9da8-aabdec48b9bb"
      },
      "source": [
        "x = tf.zeros(a[0].shape, dtype= tf.dtypes.int32)\n",
        "for i in a:\n",
        "  x= tf.add(x, i*3)\n",
        "print(tf.add(x, -a[0]))"
      ],
      "execution_count": null,
      "outputs": [
        {
          "output_type": "stream",
          "name": "stdout",
          "text": [
            "tf.Tensor([150 260 340], shape=(3,), dtype=int32)\n"
          ]
        }
      ]
    }
  ]
}